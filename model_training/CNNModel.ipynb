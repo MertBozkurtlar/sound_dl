{
 "cells": [
  {
   "cell_type": "code",
   "execution_count": 1,
   "id": "5f56f8e8",
   "metadata": {},
   "outputs": [
    {
     "name": "stderr",
     "output_type": "stream",
     "text": [
      "/home/bozkurtlar/miniconda3/lib/python3.8/site-packages/tqdm/auto.py:22: TqdmWarning: IProgress not found. Please update jupyter and ipywidgets. See https://ipywidgets.readthedocs.io/en/stable/user_install.html\n",
      "  from .autonotebook import tqdm as notebook_tqdm\n"
     ]
    }
   ],
   "source": [
    "import torch\n",
    "import constants\n",
    "from tqdm import tqdm\n",
    "import librosa\n",
    "import numpy as np\n",
    "import scipy\n",
    "import os\n",
    "import torchaudio\n",
    "import math\n",
    "import torch.nn as nn\n",
    "from torch.cuda import is_available\n",
    "from torch.utils.data import DataLoader, Dataset, random_split"
   ]
  },
  {
   "cell_type": "code",
   "execution_count": 2,
   "id": "96e90da3",
   "metadata": {},
   "outputs": [],
   "source": [
    "# File System #\n",
    "data_loc = \"/run/media/bozkurtlar/Acer/Users/Mert/Documents/data\"\n",
    "save_loc = \"/home/bozkurtlar/Documents/sound_dl/data/model\"\n"
   ]
  },
  {
   "cell_type": "code",
   "execution_count": 3,
   "id": "90eee2a8",
   "metadata": {},
   "outputs": [],
   "source": [
    "def get_splits() -> dict:\n",
    "    '''\n",
    "    Get timings of non silent data for each degree from clean record\n",
    "    \n",
    "    Returns:\n",
    "        Dictionary with timings for each degree. Degree -> Timings array\n",
    "    '''\n",
    "    noise_type = \"orig\"\n",
    "    snr = \"none\" # No noise\n",
    "    degree = list(range(0, 360, constants.degree_step))\n",
    " \n",
    "    timings_dic = dict()\n",
    "    \n",
    "    print(\"Getting non silent audio timings\")   \n",
    "    for degree in tqdm(range(int(360 / constants.degree_step))):\n",
    "        file_path = os.path.join(data_loc, constants.noise_type[noise_type], constants.SNR[snr],  f\"deg_{(degree * constants.degree_step)}.wav\")\n",
    "        signal, _ = torchaudio.load(file_path)\n",
    "        timings_arr = librosa.effects.split(signal, top_db=40)\n",
    "        # Join consequent timings if time between is lower than threshold\n",
    "        for i in range(len(timings_arr) - 1, 0, -1):\n",
    "            if timings_arr[i][0] - timings_arr[i-1][1] < constants.split_threshold:\n",
    "                timings_arr[i-1][1] = timings_arr[i][1]\n",
    "                timings_arr = np.delete(timings_arr, i, 0)\n",
    "        timings_dic[degree * constants.degree_step] = timings_arr\n",
    "    return timings_dic\n",
    "\n",
    "def load_audios(timings_dic: dict) -> list:\n",
    "    '''\n",
    "    Load each audio, split out silent parts and add to audios array\n",
    "    \n",
    "    Parameters:\n",
    "        -timings_dict: Dictionary with timings for each degree. Degree -> Timings array\n",
    "    \n",
    "    Returns:\n",
    "        List with audios loaded. (audio, (signal, label))\n",
    "    '''\n",
    "    path = data_loc\n",
    "    noise_type = constants.noise_type_use # Noise types to iterate\n",
    "    snr = constants.SNR_use # SNR to iterate\n",
    "    degree = list(range(0, 360, constants.degree_step)) # Degrees to iterate\n",
    "    length = len(noise_type) * len(snr) * len(degree)\n",
    "    \n",
    "    audios = []\n",
    "    \n",
    "    print(\"Starting to load the audios\")\n",
    "    for i in tqdm(range(length)):\n",
    "        index = handle_index(i, noise_type, snr, degree)\n",
    "        noise_type_ind, snr_ind, sample_ind = index\n",
    "        sample_noise_type = noise_type[noise_type_ind]\n",
    "        sample_snr = snr[snr_ind]\n",
    "        sample_degree = degree[sample_ind]\n",
    "        file_path = os.path.join(path, constants.noise_type[sample_noise_type], constants.SNR[sample_snr], f\"deg_{sample_degree}.wav\")\n",
    "         \n",
    "        for timing in timings_dic[sample_degree]:\n",
    "            frame_offset, num_frames = timing[0], timing[1] - timing[0] \n",
    "            signal, sr = torchaudio.load(file_path, frame_offset=frame_offset, num_frames=num_frames)\n",
    "            audios.append((signal, sample_degree))\n",
    "    return audios\n",
    "\n",
    "\n",
    "\n",
    "def preprocess_all_audios(audios: list) -> tuple:\n",
    "    '''\n",
    "    Preprocess all audio segments\n",
    "    \n",
    "    Parameters:\n",
    "        -audios: List with audios loaded. (audio, (signal, label))\n",
    "    \n",
    "    Returns:\n",
    "        Tuple with array of phases and labels. (phase_array, label_array)\n",
    "    '''\n",
    "    phase_array = []\n",
    "    label_array = []\n",
    "    \n",
    "    print(\"Starting preprocessing audios\")\n",
    "    for audio in tqdm(audios):\n",
    "        signal, label = audio\n",
    "        phase = preprocess_audio_segment(signal)\n",
    "        split_phase = phase.split(50, dim=2)\n",
    "        phase_array.extend(split_phase)\n",
    "        label_array.extend([label for i in range(len(split_phase))])\n",
    "    print(\"Preprocessing completed\")\n",
    "    phase_array = torch.stack(phase_array)\n",
    "    return (phase_array, label_array)\n",
    "\n",
    "def preprocess_audio_segment(signal: torch.tensor) -> torch.tensor:\n",
    "    '''\n",
    "    Helper function for (function) preprocess_all_audios\n",
    "    \n",
    "    Parameters:\n",
    "        -signal: A torch tensor of audio data\n",
    "        \n",
    "    Returns:\n",
    "        The phase array of processed audio\n",
    "    '''\n",
    "    phase_array = []\n",
    "    label_array = []\n",
    "    num_of_samples = constants.sampling_freq * constants.duration\n",
    "    signal = cut_audio(signal, num_of_samples)\n",
    "    signal = add_padding_to_audio(signal, num_of_samples)\n",
    "    phi = get_phase(signal, constants.sampling_freq, constants.stft_frame_size, constants.stft_hop_size)\n",
    "    phi = torch.from_numpy(phi)\n",
    "    return phi\n",
    "\n",
    "# Helper functions for preprocessing the audio\n",
    "def get_phase(wave, sampling_freq, stft_frame_size, stft_hop_size):\n",
    "    f, t, Zxx = scipy.signal.stft(wave,\n",
    "            fs=sampling_freq,\n",
    "            window='hann',\n",
    "            nperseg=stft_frame_size,\n",
    "            noverlap=stft_hop_size,\n",
    "            detrend=False,\n",
    "            return_onesided=True,\n",
    "            boundary='zeros',\n",
    "            padded=True)\n",
    "    \n",
    "    Zxx = Zxx[:,1:,:500]\n",
    "    energy = np.abs(Zxx)\n",
    "    threshold = np.max(energy)/1000; #tolerance threshold\n",
    "    Zxx[energy < threshold] = 0\n",
    "    phi = np.angle(Zxx)\n",
    "    return phi \n",
    "        \n",
    "def cut_audio(signal, num_of_samples):\n",
    "    if signal.shape[1] > num_of_samples:\n",
    "        signal = signal[:, :num_of_samples]\n",
    "    return signal\n",
    "\n",
    "def add_padding_to_audio(signal, num_of_samples):\n",
    "    while signal.shape[1] < num_of_samples:\n",
    "        missing_samples = min(num_of_samples - signal.shape[1], signal.shape[1])\n",
    "        signal = torch.cat((signal,signal[:,0:missing_samples]), axis=1)\n",
    "    return signal\n",
    "\n",
    "def handle_index(index, noise_type, snr, degree):\n",
    "    '''Returns the folder index for given index'''\n",
    "    noise_type_ind = math.floor(index / (len(snr) * len(degree)))\n",
    "    snr_ind = math.floor((index - (noise_type_ind) * (len(snr) * len(degree))) / len(degree))\n",
    "    sample_ind = math.floor(index - ((noise_type_ind * len(snr)) + snr_ind) * len(degree))\n",
    "    return (noise_type_ind, snr_ind, sample_ind)"
   ]
  },
  {
   "cell_type": "code",
   "execution_count": null,
   "id": "b14cf70d",
   "metadata": {},
   "outputs": [
    {
     "name": "stdout",
     "output_type": "stream",
     "text": [
      "Getting non silent audio timings\n"
     ]
    },
    {
     "name": "stderr",
     "output_type": "stream",
     "text": [
      "100%|████████████████████████████████████████████████████████████████████████████████| 72/72 [00:38<00:00,  1.85it/s]\n"
     ]
    },
    {
     "name": "stdout",
     "output_type": "stream",
     "text": [
      "Starting to load the audios\n"
     ]
    },
    {
     "name": "stderr",
     "output_type": "stream",
     "text": [
      "100%|████████████████████████████████████████████████████████████████████████████████| 72/72 [03:50<00:00,  3.19s/it]\n"
     ]
    },
    {
     "name": "stdout",
     "output_type": "stream",
     "text": [
      "Starting preprocessing audios\n"
     ]
    },
    {
     "name": "stderr",
     "output_type": "stream",
     "text": [
      " 43%|████████████████████████████████▊                                           | 1355/3136 [01:00<01:08, 25.87it/s]"
     ]
    }
   ],
   "source": [
    "preprocessed = preprocess_all_audios(load_audios(get_splits()))"
   ]
  },
  {
   "cell_type": "code",
   "execution_count": null,
   "id": "cabb5ae5",
   "metadata": {},
   "outputs": [],
   "source": [
    "class SoundDataset(Dataset):\n",
    "    def __init__(self, data, classification=False) -> None:\n",
    "        super().__init__()\n",
    "        self.device = 'cuda' if is_available() else 'cpu'\n",
    "        self.data = data\n",
    "        self.classification = classification\n",
    "        self.degree_step = constants.degree_step\n",
    "    def __len__(self):\n",
    "        return len(self.data[1])\n",
    "\n",
    "    def __getitem__(self, index):\n",
    "        spec, label = self.data\n",
    "        # If task type is set to classification encode the label in one hot vector\n",
    "        label = self.encode_label(label[index]) if self.classification else torch.tensor(label[index])\n",
    "        spec.to(self.device)\n",
    "        label.to(self.device)\n",
    "        return spec[index], label\n",
    "    \n",
    "    # Encode the label in one-hot vector \n",
    "    def encode_label(self, label):\n",
    "        label = int(label / self.degree_step)\n",
    "        vector = torch.zeros(int(360 / self.degree_step))\n",
    "        vector[label] = 1\n",
    "        return vector\n",
    "    \n",
    "dataset = SoundDataset(data=preprocessed, classification=True)"
   ]
  },
  {
   "cell_type": "code",
   "execution_count": null,
   "id": "efa58174",
   "metadata": {},
   "outputs": [],
   "source": [
    "torch.save(dataset, save_loc, pickle_protocol=4)"
   ]
  },
  {
   "cell_type": "code",
   "execution_count": 8,
   "id": "74990c8f",
   "metadata": {},
   "outputs": [],
   "source": [
    "class VonMisesLayer(nn.Module):\n",
    "    def __init__(self, input_channel, output_channel, kernel_size):\n",
    "        super().__init__()\n",
    "        self.sinConv = nn.Conv2d(input_channel, output_channel, kernel_size, bias=False)\n",
    "        self.cosConv = nn.Conv2d(input_channel, output_channel, kernel_size, bias=False)\n",
    "    \n",
    "    def forward(self, x):\n",
    "        y_sin = self.sinConv(torch.sin(x))\n",
    "        y_cos = self.cosConv(torch.cos(x))\n",
    "        return y_sin + y_cos"
   ]
  },
  {
   "cell_type": "code",
   "execution_count": 9,
   "id": "14ca9f86",
   "metadata": {},
   "outputs": [],
   "source": [
    "class CNN(nn.Module):\n",
    "    def __init__(self):\n",
    "        super().__init__()\n",
    "        self.VonMisesLayer = VonMisesLayer(8, 4, 5)\n",
    "        self.conv = nn.Conv2d(4, 1, 5)\n",
    "        self.fc1 = nn.Linear(549, 256)\n",
    "        self.fc2 = nn.Linear(256, 72)\n",
    "        self.pool = nn.MaxPool2d(2, 2)\n",
    "        self.flatten = nn.Flatten()\n",
    "        self.sigmoid = nn.Sigmoid()\n",
    "        self.relu = nn.ReLU()\n",
    "    \n",
    "    def forward(self, x):\n",
    "        x = self.pool(self.sigmoid(self.VonMisesLayer(x)))\n",
    "        x = self.pool(self.sigmoid(self.conv(x)))\n",
    "        x = self.flatten(x)\n",
    "        x = self.relu(self.fc1(x))\n",
    "        x = self.fc2(x)\n",
    "        return x"
   ]
  },
  {
   "cell_type": "code",
   "execution_count": 10,
   "id": "82bf1fa1",
   "metadata": {},
   "outputs": [],
   "source": [
    "train_losses = []\n",
    "val_losses = []\n",
    "\n",
    "def train_epoch(model, dataloader_train, dataloader_val, optimizer, loss_fn, device):\n",
    "    '''Trains a single epoch, helper function for (function) train_model'''\n",
    "    train_loss = 0\n",
    "    val_loss = 0\n",
    "    accuracy_correct = 0\n",
    "    accuracy_total = 0\n",
    "    for input, target in tqdm(dataloader_train):\n",
    "        input, target = input.to(device), target.to(device)\n",
    "\n",
    "        # forward pass\n",
    "        optimizer.zero_grad()\n",
    "        prediction = model(input)\n",
    "        loss = loss_fn(prediction, target)\n",
    "\n",
    "        # backpropagation\n",
    "        loss.backward()\n",
    "        optimizer.step()\n",
    "        \n",
    "        train_loss += loss.item()\n",
    "    train_loss /= len(dataloader_train)\n",
    "    train_losses.append(train_loss)\n",
    "    \n",
    "    with torch.no_grad():\n",
    "        for input, target in tqdm(dataloader_val):\n",
    "            prediction = model(input)\n",
    "            loss = loss_fn(prediction, target)\n",
    "            val_loss += loss.item()\n",
    "            accuracy_correct += len([prediction[i] for i in range(len(prediction)) if prediction[i].argmax() == target[i].argmax()])\n",
    "            accuracy_total += len(prediction)\n",
    "        val_loss /= len(dataloader_val)\n",
    "        val_losses.append(val_loss)\n",
    "    \n",
    "    print(f\"Train Loss: {train_loss}, Val. Loss: {val_loss}, Accuracy: {(accuracy_correct / accuracy_total) * 100}%\")\n",
    "\n",
    "def train_model(model, dataloader_train, dataloader_val, optimizer, loss_fn, epochs):\n",
    "    '''Trains the model for all epochs'''\n",
    "    device = 'cuda' if is_available() else 'cpu'\n",
    "    for epoch in range(epochs):\n",
    "        print(f\"Epoch: {epoch}\")\n",
    "        train_epoch(model, dataloader_train, dataloader_val, optimizer, loss_fn, device)\n",
    "        print(\"------------------------\")\n",
    "    print(\"Finished training\")\n"
   ]
  },
  {
   "cell_type": "code",
   "execution_count": 11,
   "id": "c9e5d7e3",
   "metadata": {},
   "outputs": [],
   "source": [
    "# Define the size of train and test datasets\n",
    "train_size = int(0.85 * len(dataset))\n",
    "val_size = len(dataset) - train_size\n",
    "\n",
    "# Perform the train-test split\n",
    "train_dataset, val_dataset = random_split(dataset, [train_size, val_size])\n",
    "\n",
    "dataloader_train = DataLoader(train_dataset, batch_size=32, shuffle=True)\n",
    "dataloader_val = DataLoader(val_dataset, batch_size=32, shuffle=False)\n",
    "model = CNN()\n",
    "optimizer = torch.optim.Adam(model.parameters(), lr=0.001)\n",
    "loss_fn = nn.CrossEntropyLoss()\n",
    "device = 'cuda' if is_available() else 'cpu'"
   ]
  },
  {
   "cell_type": "code",
   "execution_count": null,
   "id": "a34c4303",
   "metadata": {
    "scrolled": false
   },
   "outputs": [
    {
     "name": "stdout",
     "output_type": "stream",
     "text": [
      "Epoch: 0\n"
     ]
    },
    {
     "name": "stderr",
     "output_type": "stream",
     "text": [
      "100%|████████████████████████████████████████████████████████████████████████████████| 833/833 [05:31<00:00,  2.52it/s]\n",
      "100%|████████████████████████████████████████████████████████████████████████████████| 147/147 [00:28<00:00,  5.15it/s]\n"
     ]
    },
    {
     "name": "stdout",
     "output_type": "stream",
     "text": [
      "Train Loss: 0.9698473499531076, Val. Loss: 0.9712009705653807, Accuracy: 67.2406462585034%\n",
      "------------------------\n",
      "Epoch: 1\n"
     ]
    },
    {
     "name": "stderr",
     "output_type": "stream",
     "text": [
      "100%|████████████████████████████████████████████████████████████████████████████████| 833/833 [05:24<00:00,  2.57it/s]\n",
      "100%|████████████████████████████████████████████████████████████████████████████████| 147/147 [00:26<00:00,  5.57it/s]\n"
     ]
    },
    {
     "name": "stdout",
     "output_type": "stream",
     "text": [
      "Train Loss: 0.9147718040382161, Val. Loss: 0.8995658337664442, Accuracy: 68.32482993197279%\n",
      "------------------------\n",
      "Epoch: 2\n"
     ]
    },
    {
     "name": "stderr",
     "output_type": "stream",
     "text": [
      "100%|████████████████████████████████████████████████████████████████████████████████| 833/833 [05:22<00:00,  2.58it/s]\n",
      "100%|████████████████████████████████████████████████████████████████████████████████| 147/147 [00:25<00:00,  5.88it/s]\n"
     ]
    },
    {
     "name": "stdout",
     "output_type": "stream",
     "text": [
      "Train Loss: 0.874690880473493, Val. Loss: 0.9092563601578174, Accuracy: 68.55867346938776%\n",
      "------------------------\n",
      "Epoch: 3\n"
     ]
    },
    {
     "name": "stderr",
     "output_type": "stream",
     "text": [
      "100%|████████████████████████████████████████████████████████████████████████████████| 833/833 [05:18<00:00,  2.62it/s]\n",
      "100%|████████████████████████████████████████████████████████████████████████████████| 147/147 [00:26<00:00,  5.60it/s]\n"
     ]
    },
    {
     "name": "stdout",
     "output_type": "stream",
     "text": [
      "Train Loss: 0.8354560491703853, Val. Loss: 0.8994195124729961, Accuracy: 69.04761904761905%\n",
      "------------------------\n",
      "Epoch: 4\n"
     ]
    },
    {
     "name": "stderr",
     "output_type": "stream",
     "text": [
      "100%|████████████████████████████████████████████████████████████████████████████████| 833/833 [05:17<00:00,  2.62it/s]\n",
      "100%|████████████████████████████████████████████████████████████████████████████████| 147/147 [00:28<00:00,  5.14it/s]\n"
     ]
    },
    {
     "name": "stdout",
     "output_type": "stream",
     "text": [
      "Train Loss: 0.7778266896577586, Val. Loss: 0.7725013565449488, Accuracy: 74.1921768707483%\n",
      "------------------------\n",
      "Epoch: 5\n"
     ]
    },
    {
     "name": "stderr",
     "output_type": "stream",
     "text": [
      "100%|████████████████████████████████████████████████████████████████████████████████| 833/833 [05:18<00:00,  2.62it/s]\n",
      "100%|████████████████████████████████████████████████████████████████████████████████| 147/147 [00:29<00:00,  4.99it/s]\n"
     ]
    },
    {
     "name": "stdout",
     "output_type": "stream",
     "text": [
      "Train Loss: 0.7521829965377913, Val. Loss: 0.8156191049789896, Accuracy: 71.93877551020408%\n",
      "------------------------\n",
      "Epoch: 6\n"
     ]
    },
    {
     "name": "stderr",
     "output_type": "stream",
     "text": [
      "100%|████████████████████████████████████████████████████████████████████████████████| 833/833 [05:15<00:00,  2.64it/s]\n",
      "100%|████████████████████████████████████████████████████████████████████████████████| 147/147 [00:23<00:00,  6.18it/s]\n"
     ]
    },
    {
     "name": "stdout",
     "output_type": "stream",
     "text": [
      "Train Loss: 0.7067819210518451, Val. Loss: 0.7395560443401337, Accuracy: 74.31972789115646%\n",
      "------------------------\n",
      "Epoch: 7\n"
     ]
    },
    {
     "name": "stderr",
     "output_type": "stream",
     "text": [
      "100%|████████████████████████████████████████████████████████████████████████████████| 833/833 [05:12<00:00,  2.66it/s]\n",
      "100%|████████████████████████████████████████████████████████████████████████████████| 147/147 [00:25<00:00,  5.85it/s]\n"
     ]
    },
    {
     "name": "stdout",
     "output_type": "stream",
     "text": [
      "Train Loss: 0.6843547828558112, Val. Loss: 0.7039657462210882, Accuracy: 76.08418367346938%\n",
      "------------------------\n",
      "Epoch: 8\n"
     ]
    },
    {
     "name": "stderr",
     "output_type": "stream",
     "text": [
      "100%|████████████████████████████████████████████████████████████████████████████████| 833/833 [05:16<00:00,  2.63it/s]\n",
      "100%|████████████████████████████████████████████████████████████████████████████████| 147/147 [00:30<00:00,  4.89it/s]\n"
     ]
    },
    {
     "name": "stdout",
     "output_type": "stream",
     "text": [
      "Train Loss: 0.6526657183523796, Val. Loss: 0.7954839425427573, Accuracy: 73.08673469387756%\n",
      "------------------------\n",
      "Epoch: 9\n"
     ]
    },
    {
     "name": "stderr",
     "output_type": "stream",
     "text": [
      " 26%|████████████████████▉                                                           | 218/833 [01:20<03:35,  2.85it/s]"
     ]
    }
   ],
   "source": [
    "try:\n",
    "    train_model(model, dataloader_train, dataloader_val, optimizer, loss_fn, 60)\n",
    "except KeyboardInterrupt:\n",
    "    print(\"Stopping the training early\")"
   ]
  },
  {
   "cell_type": "code",
   "execution_count": 13,
   "id": "ce600c7d",
   "metadata": {},
   "outputs": [],
   "source": [
    "torch.save(model.state_dict(), \"C:\\\\Users\\\\Mert\\\\Documents\\\\sound_dl\\\\data\\\\cnn_classification\" + \"\\\\vm_model.pth\")"
   ]
  },
  {
   "cell_type": "code",
   "execution_count": 14,
   "id": "b3f2f802",
   "metadata": {},
   "outputs": [
    {
     "data": {
      "image/png": "[encoded data removed]",
      "text/plain": [
       "<Figure size 640x480 with 1 Axes>"
      ]
     },
     "metadata": {},
     "output_type": "display_data"
    }
   ],
   "source": [
    "import matplotlib.pyplot as plt\n",
    "plt.plot(train_losses, label=\"Train\")\n",
    "plt.plot(val_losses, label=\"Validation\")\n",
    "plt.legend()\n",
    "plt.show()"
   ]
  },
  {
   "cell_type": "code",
   "execution_count": null,
   "id": "cc15974f",
   "metadata": {},
   "outputs": [],
   "source": [
    "accuracy_dict = {}\n",
    "len_dict = {}\n",
    "for i in range(len(preprocessed[1])):\n",
    "    dta = preprocessed[0][i]\n",
    "    label = preprocessed[1][i]\n",
    "    y = model(dta)\n",
    "    if (abs(label - (y.argmax().item() * 5)) <= 5):\n",
    "        if label in accuracy_dict:\n",
    "            accuracy_dict[label] += 1\n",
    "        else:\n",
    "            accuracy_dict[label] = 0\n",
    "    if label in len_dict:\n",
    "        len_dict[label] += 1\n",
    "    else:\n",
    "        len_dict[label] = 0\n",
    "\n",
    "for i in range(0,360, 5):\n",
    "    accuracy_dict[i] /= len_dict[i]\n",
    "    accuracy_dict[i] *= 100"
   ]
  },
  {
   "cell_type": "code",
   "execution_count": null,
   "id": "e2b73fd4",
   "metadata": {},
   "outputs": [],
   "source": [
    "for key, value in accuracy_dict.items():\n",
    "    print(f\"{key}: {value:.2f}%\")"
   ]
  },
  {
   "cell_type": "markdown",
   "id": "2ee23238",
   "metadata": {},
   "source": [
    "Epoch 35: Train Loss: 0.6227020535632781, Val. Loss: 0.8865342508244557, Accuracy: 79.45066124109867%\n",
    "Epoch 55: Train Loss: 0.3191727009632078, Val. Loss: 0.44603256916715983, Accuracy: 84.92772108843538%"
   ]
  }
 ],
 "metadata": {
  "kernelspec": {
   "display_name": "firstEnv",
   "language": "python",
   "name": "firstenv"
  },
  "language_info": {
   "codemirror_mode": {
    "name": "ipython",
    "version": 3
   },
   "file_extension": ".py",
   "mimetype": "text/x-python",
   "name": "python",
   "nbconvert_exporter": "python",
   "pygments_lexer": "ipython3",
   "version": "3.8.15"
  }
 },
 "nbformat": 4,
 "nbformat_minor": 5
}
